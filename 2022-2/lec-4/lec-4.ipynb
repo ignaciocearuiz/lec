{
 "cells": [
  {
   "cell_type": "markdown",
   "metadata": {},
   "source": [
    "<center>\n",
    "    <img src=\"http://sct.inf.utfsm.cl/wp-content/uploads/2020/04/logo_di.png\" style=\"width:60%\">\n",
    "    <h1> INF-280 - Estadística Computacional </h1>\n",
    "    <h2> Análisis de Datos y Test de Hipótesis </h2>\n",
    "    <h4> Ignacio Cea Ruiz </h4>\n",
    "</center>"
   ]
  },
  {
   "cell_type": "markdown",
   "metadata": {},
   "source": [
    "## Introducción\n",
    "Los laboratorios de estadística computacional (LEC) tienen por objetivo principal analizar datos utilizando técnicas de visualización y evidenciar el comportamiento estocástico de experimentos aleatorios mediante simulaciones computacionales. Las experiencias buscan medir la habilidad de programación en Python y sus librerías, la capacidad de análisis estadístico y la comprensión de documentaciones, artículos y papers.\n",
    "\n",
    "> Recuerde que los laboratorios tienen una ponderación de 25% en la nota final del ramo y que, además, el promedio de estos debe ser mayor o igual a 55 para aprobar el ramo"
   ]
  },
  {
   "cell_type": "markdown",
   "metadata": {},
   "source": [
    "## Reglamento\n",
    "1. El desarrollo de los laboratorios debe ser en **Python**.\n",
    "2. El formato de entrega es un **archivo .ipynb**, es decir, un Jupyter Notebook.\n",
    "3. El nombre del archivo de entrega del laboratorio *i* debe seguir el siguiente formato: *lec-i-nombregrupo.ipynb*.\n",
    "4. Se recomienda seguir las recomendaciones de estilo descritas en [PEP 8](https://www.python.org/dev/peps/pep-0008/) y [Type hints](https://docs.python.org/3/library/typing.html) a la hora de programar.\n",
    "5. El tiempo para la realización de los laboratorios es extenso, por lo que solo se recibirán entregas hasta las 23:59 del día de entrega **a menos que se especifique lo contrario**. Entregas fuera del plazo serán calificadas con nota 0.\n",
    "6. Es de exclusiva responsabilidad del equipo de trabajo escribir los desarrollos y el código correspondiente en el notebook. Código o desarrollos en otras plataformas NO serán revisados.\n",
    "7. Antes de entregar su laboratorio verifique su **reproducibilidad**. Jupyter Notebooks con errores a la hora de ejecutarse serán penalizados con descuentos.\n",
    "8. Solo un integrante por grupo debe realizar la entrega por Aula.\n",
    "9. El código entregado es solo una guía, se puede modificar sin problemas. Así mismo, para cada ejercicio usted puede crear las funciones que estime conveniente. También puede agregar celdas de markdown para explicar y comentar según corresponda.\n",
    "10. No incluya prints innecesarios como parte de su entrega final."
   ]
  },
  {
   "cell_type": "markdown",
   "metadata": {},
   "source": [
    "## Toolbox\n",
    "\n",
    "La caja de herramientas (stack de tecnologias) para el presente laboratorio está conformada por:\n",
    "1. [Python](https://www.python.org/doc/).\n",
    "2. [Numpy](https://numpy.org/doc/stable/).\n",
    "3. [Scipy](https://docs.scipy.org/doc/scipy/reference/index.html)\n",
    "4. [Matplotlib](https://matplotlib.org/stable/contents.html).\n",
    "5. [Seaborn](https://seaborn.pydata.org/api.html).\n",
    "\n",
    "Usted es libre de utilizar el entorno de desarrollo que prefiera, sin embargo se recomienda el uso de [Anaconda](https://www.anaconda.com/products/individual#Downloads), ya que incluye las herramientas necesarias para desarrollar los laboratorios, permite una rápida instalación de otras librerías y es compatible con una gran variedad de sistemas operativos.\n",
    "\n",
    "Usted también es libre de usar tanto Jupyer Notebook (incluido en la instalación individual de Anaconda) como otras alternativas de desarrollo de archivos `.ipynb` tales como [Colab](https://colab.research.google.com/) o [Visual Studio Code](https://code.visualstudio.com/). En el caso de trabajar remotamente se recomienda utilizar Git para trabajar de manera exitosa y ordenada en equipo.\n",
    "\n",
    "Las librerías se introducirán amigablemente, no se asume ningún tipo de conocimiento previo en las tecnologías presentes en nuestra toolbox salvo por Python, sin embargo, se busca promover la lectura de documentaciones de librerías."
   ]
  },
  {
   "cell_type": "markdown",
   "metadata": {},
   "source": [
    "## Experiencia\n",
    "\n"
   ]
  },
  {
   "cell_type": "markdown",
   "metadata": {},
   "source": [
    "### 0. Importación de las librerías"
   ]
  },
  {
   "cell_type": "markdown",
   "metadata": {},
   "source": [
    "A continuación se importan las librerías que necesitaremos para el correcto desarrollo de esta experiencia. Se recomienda utilizar los aliases por defecto."
   ]
  },
  {
   "cell_type": "code",
   "execution_count": 1,
   "metadata": {},
   "outputs": [],
   "source": [
    "import numpy as np\n",
    "from scipy import stats\n",
    "import pandas as pd\n",
    "import matplotlib.pyplot as plt\n",
    "import seaborn as sns"
   ]
  },
  {
   "cell_type": "markdown",
   "metadata": {},
   "source": [
    "La librería que será central para la primera parte del desarrollo de este, su último LEC, es ✨`pandas`✨. Esta librería esta construida sobre las estructuras de datos provistas por `numpy`, proveyendo al cientista de datos una robusta serie de herramientas destinadas al **análisis de datos** tabulados de gran volumen.\n",
    "\n",
    "En la segunda parte, exploraremos los **test de hipótesis** desde un punto de vista conceptual y experimental."
   ]
  },
  {
   "cell_type": "markdown",
   "metadata": {},
   "source": [
    "### 1. Análisis y visualizaciones de datos con Pandas **(55 pts)**"
   ]
  },
  {
   "cell_type": "markdown",
   "metadata": {},
   "source": [
    "#### 1.1. Cargar datos"
   ]
  },
  {
   "cell_type": "markdown",
   "metadata": {},
   "source": [
    "A modo de introducción al análisis de datos en Python trabajaremos con el dataset `top_100_anime_movie.csv`, el cual contiene datos respecto a las 100 mejores películas animadas japonesas de todos los tiempos, según su ranking [IMDB](https://es.wikipedia.org/wiki/Internet_Movie_Database). Este dataset fue obtenido desde [Kaggle](https://www.kaggle.com/datasets/ayessa/top-100-anime-movies-imdb).\n",
    "\n",
    "El primer paso consiste en leer el archivo csv mediante la función `read_csv()` y almacenarlo en una variable conveniente."
   ]
  },
  {
   "cell_type": "code",
   "execution_count": 2,
   "metadata": {},
   "outputs": [],
   "source": [
    "anime_movies = pd.read_csv('top_100_anime_movie.csv')"
   ]
  },
  {
   "cell_type": "markdown",
   "metadata": {},
   "source": [
    "La función permite cargar datasets desde archivos en [formato csv](https://es.wikipedia.org/wiki/Valores_separados_por_comas), los cuales son almacenados como [dataframes](https://pandas.pydata.org/pandas-docs/stable/reference/api/pandas.DataFrame.html). También tiene parámetros opcionales que permiten personalizar la operación de lectura dependiendo de las características de la data (se recomienda leer la documentación asociada)."
   ]
  },
  {
   "cell_type": "markdown",
   "metadata": {},
   "source": [
    "#### 1.2. Explorando el dataset"
   ]
  },
  {
   "cell_type": "markdown",
   "metadata": {},
   "source": [
    "Tal como la librería Numpy está construida sobre los NumPy Arrays, Pandas está construida sobre un objeto principal llamado [Series](https://pandas.pydata.org/pandas-docs/stable/reference/api/pandas.Series.html). Este objeto es muy similar a un `ndarray` unidimensional, pero con funcionalidades adicionales tales como la posibilidad de que sus valores sean indexados mediante etiquetas especificadas por el programador.\n",
    "\n",
    "Luego, tenemos los objetos llamados [DataFrame](https://pandas.pydata.org/pandas-docs/stable/reference/api/pandas.DataFrame.html). Estos permiten almacenar datos tabulados, donde tanto columnas como filas pueden ser accedidas mediante alguna etiqueta específica. Los datos pueden ser de distintos tipos, pero cada columna (que es esencialmente una `Series`) solo puede contener datos del mismo tipo.\n",
    "\n",
    "> Un punto importante de ambas estructuras de datos es que son **mutables**, por lo tanto, se puede acceder directamente a sus elementos para editarlos.\n",
    "\n",
    "Una vez cargados los datos en un *DataFrame*, podemos proceder a revisar la información contenida en ellos.\n",
    "\n",
    "* El método `head()` permite visualizar las primeras entradas (filas) de la tabla:"
   ]
  },
  {
   "cell_type": "code",
   "execution_count": 3,
   "metadata": {},
   "outputs": [
    {
     "data": {
      "text/html": [
       "<div>\n",
       "<style scoped>\n",
       "    .dataframe tbody tr th:only-of-type {\n",
       "        vertical-align: middle;\n",
       "    }\n",
       "\n",
       "    .dataframe tbody tr th {\n",
       "        vertical-align: top;\n",
       "    }\n",
       "\n",
       "    .dataframe thead th {\n",
       "        text-align: right;\n",
       "    }\n",
       "</style>\n",
       "<table border=\"1\" class=\"dataframe\">\n",
       "  <thead>\n",
       "    <tr style=\"text-align: right;\">\n",
       "      <th></th>\n",
       "      <th>rank</th>\n",
       "      <th>title</th>\n",
       "      <th>rating</th>\n",
       "      <th>votes</th>\n",
       "      <th>year</th>\n",
       "      <th>minutes</th>\n",
       "      <th>genre</th>\n",
       "      <th>gross</th>\n",
       "    </tr>\n",
       "  </thead>\n",
       "  <tbody>\n",
       "    <tr>\n",
       "      <th>0</th>\n",
       "      <td>1</td>\n",
       "      <td>Ramayana: The Legend of Prince Rama</td>\n",
       "      <td>9.2</td>\n",
       "      <td>7,549</td>\n",
       "      <td>1993</td>\n",
       "      <td>97.0</td>\n",
       "      <td>Animation, Action, Adventure</td>\n",
       "      <td>NaN</td>\n",
       "    </tr>\n",
       "    <tr>\n",
       "      <th>1</th>\n",
       "      <td>2</td>\n",
       "      <td>Spirited Away</td>\n",
       "      <td>8.6</td>\n",
       "      <td>756,112</td>\n",
       "      <td>2001</td>\n",
       "      <td>125.0</td>\n",
       "      <td>Animation, Adventure, Family</td>\n",
       "      <td>$10.06M</td>\n",
       "    </tr>\n",
       "    <tr>\n",
       "      <th>2</th>\n",
       "      <td>3</td>\n",
       "      <td>Meiji Tokyo Renka Movie: Yumihari no Serenade</td>\n",
       "      <td>8.5</td>\n",
       "      <td>39</td>\n",
       "      <td>2015</td>\n",
       "      <td>60.0</td>\n",
       "      <td>Animation, Fantasy, Romance</td>\n",
       "      <td>NaN</td>\n",
       "    </tr>\n",
       "    <tr>\n",
       "      <th>3</th>\n",
       "      <td>4</td>\n",
       "      <td>Natsu e no tunnel, Sayonara no deguchi</td>\n",
       "      <td>8.5</td>\n",
       "      <td>23</td>\n",
       "      <td>2022</td>\n",
       "      <td>83.0</td>\n",
       "      <td>Animation</td>\n",
       "      <td>NaN</td>\n",
       "    </tr>\n",
       "    <tr>\n",
       "      <th>4</th>\n",
       "      <td>5</td>\n",
       "      <td>Attack on Titan: Chronicle</td>\n",
       "      <td>8.5</td>\n",
       "      <td>10,421</td>\n",
       "      <td>2020</td>\n",
       "      <td>122.0</td>\n",
       "      <td>Animation, Action, Adventure</td>\n",
       "      <td>NaN</td>\n",
       "    </tr>\n",
       "  </tbody>\n",
       "</table>\n",
       "</div>"
      ],
      "text/plain": [
       "   rank                                          title  rating    votes  year  \\\n",
       "0     1            Ramayana: The Legend of Prince Rama     9.2    7,549  1993   \n",
       "1     2                                  Spirited Away     8.6  756,112  2001   \n",
       "2     3  Meiji Tokyo Renka Movie: Yumihari no Serenade     8.5       39  2015   \n",
       "3     4         Natsu e no tunnel, Sayonara no deguchi     8.5       23  2022   \n",
       "4     5                     Attack on Titan: Chronicle     8.5   10,421  2020   \n",
       "\n",
       "   minutes                         genre    gross  \n",
       "0     97.0  Animation, Action, Adventure      NaN  \n",
       "1    125.0  Animation, Adventure, Family  $10.06M  \n",
       "2     60.0   Animation, Fantasy, Romance      NaN  \n",
       "3     83.0                     Animation      NaN  \n",
       "4    122.0  Animation, Action, Adventure      NaN  "
      ]
     },
     "execution_count": 3,
     "metadata": {},
     "output_type": "execute_result"
    }
   ],
   "source": [
    "anime_movies.head()"
   ]
  },
  {
   "cell_type": "markdown",
   "metadata": {},
   "source": [
    "* Podemos observar que se asigna una columna adicional sin nombre que contiene los índices por defecto (0, 1, 2...) para cada entrada. Podemos eliminarla asignando como índice la columna `rank` de la siguiente forma:"
   ]
  },
  {
   "cell_type": "code",
   "execution_count": 4,
   "metadata": {},
   "outputs": [
    {
     "data": {
      "text/html": [
       "<div>\n",
       "<style scoped>\n",
       "    .dataframe tbody tr th:only-of-type {\n",
       "        vertical-align: middle;\n",
       "    }\n",
       "\n",
       "    .dataframe tbody tr th {\n",
       "        vertical-align: top;\n",
       "    }\n",
       "\n",
       "    .dataframe thead th {\n",
       "        text-align: right;\n",
       "    }\n",
       "</style>\n",
       "<table border=\"1\" class=\"dataframe\">\n",
       "  <thead>\n",
       "    <tr style=\"text-align: right;\">\n",
       "      <th></th>\n",
       "      <th>title</th>\n",
       "      <th>rating</th>\n",
       "      <th>votes</th>\n",
       "      <th>year</th>\n",
       "      <th>minutes</th>\n",
       "      <th>genre</th>\n",
       "      <th>gross</th>\n",
       "    </tr>\n",
       "    <tr>\n",
       "      <th>rank</th>\n",
       "      <th></th>\n",
       "      <th></th>\n",
       "      <th></th>\n",
       "      <th></th>\n",
       "      <th></th>\n",
       "      <th></th>\n",
       "      <th></th>\n",
       "    </tr>\n",
       "  </thead>\n",
       "  <tbody>\n",
       "    <tr>\n",
       "      <th>1</th>\n",
       "      <td>Ramayana: The Legend of Prince Rama</td>\n",
       "      <td>9.2</td>\n",
       "      <td>7,549</td>\n",
       "      <td>1993</td>\n",
       "      <td>97.0</td>\n",
       "      <td>Animation, Action, Adventure</td>\n",
       "      <td>NaN</td>\n",
       "    </tr>\n",
       "    <tr>\n",
       "      <th>2</th>\n",
       "      <td>Spirited Away</td>\n",
       "      <td>8.6</td>\n",
       "      <td>756,112</td>\n",
       "      <td>2001</td>\n",
       "      <td>125.0</td>\n",
       "      <td>Animation, Adventure, Family</td>\n",
       "      <td>$10.06M</td>\n",
       "    </tr>\n",
       "    <tr>\n",
       "      <th>3</th>\n",
       "      <td>Meiji Tokyo Renka Movie: Yumihari no Serenade</td>\n",
       "      <td>8.5</td>\n",
       "      <td>39</td>\n",
       "      <td>2015</td>\n",
       "      <td>60.0</td>\n",
       "      <td>Animation, Fantasy, Romance</td>\n",
       "      <td>NaN</td>\n",
       "    </tr>\n",
       "    <tr>\n",
       "      <th>4</th>\n",
       "      <td>Natsu e no tunnel, Sayonara no deguchi</td>\n",
       "      <td>8.5</td>\n",
       "      <td>23</td>\n",
       "      <td>2022</td>\n",
       "      <td>83.0</td>\n",
       "      <td>Animation</td>\n",
       "      <td>NaN</td>\n",
       "    </tr>\n",
       "    <tr>\n",
       "      <th>5</th>\n",
       "      <td>Attack on Titan: Chronicle</td>\n",
       "      <td>8.5</td>\n",
       "      <td>10,421</td>\n",
       "      <td>2020</td>\n",
       "      <td>122.0</td>\n",
       "      <td>Animation, Action, Adventure</td>\n",
       "      <td>NaN</td>\n",
       "    </tr>\n",
       "  </tbody>\n",
       "</table>\n",
       "</div>"
      ],
      "text/plain": [
       "                                              title  rating    votes  year  \\\n",
       "rank                                                                         \n",
       "1               Ramayana: The Legend of Prince Rama     9.2    7,549  1993   \n",
       "2                                     Spirited Away     8.6  756,112  2001   \n",
       "3     Meiji Tokyo Renka Movie: Yumihari no Serenade     8.5       39  2015   \n",
       "4            Natsu e no tunnel, Sayonara no deguchi     8.5       23  2022   \n",
       "5                        Attack on Titan: Chronicle     8.5   10,421  2020   \n",
       "\n",
       "      minutes                         genre    gross  \n",
       "rank                                                  \n",
       "1        97.0  Animation, Action, Adventure      NaN  \n",
       "2       125.0  Animation, Adventure, Family  $10.06M  \n",
       "3        60.0   Animation, Fantasy, Romance      NaN  \n",
       "4        83.0                     Animation      NaN  \n",
       "5       122.0  Animation, Action, Adventure      NaN  "
      ]
     },
     "execution_count": 4,
     "metadata": {},
     "output_type": "execute_result"
    }
   ],
   "source": [
    "anime_movies.set_index('rank', inplace=True) # ¿Para qué sirve el parámetro inplace=True?\n",
    "anime_movies.head()"
   ]
  },
  {
   "cell_type": "markdown",
   "metadata": {},
   "source": [
    "* Podemos revisar el atributo  `shape` para comprobar que tenemos 100 entradas en la tabla (además de ver cuántas columnas tenemos, excluyendo el índice `rank`):"
   ]
  },
  {
   "cell_type": "code",
   "execution_count": 5,
   "metadata": {},
   "outputs": [
    {
     "data": {
      "text/plain": [
       "(100, 7)"
      ]
     },
     "execution_count": 5,
     "metadata": {},
     "output_type": "execute_result"
    }
   ],
   "source": [
    "anime_movies.shape"
   ]
  },
  {
   "cell_type": "markdown",
   "metadata": {},
   "source": [
    "* Para acceder a una columna en particular del *DataFrame*:"
   ]
  },
  {
   "cell_type": "code",
   "execution_count": 6,
   "metadata": {},
   "outputs": [
    {
     "data": {
      "text/plain": [
       "rank\n",
       "1                    Ramayana: The Legend of Prince Rama\n",
       "2                                          Spirited Away\n",
       "3          Meiji Tokyo Renka Movie: Yumihari no Serenade\n",
       "4                 Natsu e no tunnel, Sayonara no deguchi\n",
       "5                             Attack on Titan: Chronicle\n",
       "                             ...                        \n",
       "96     Mobile Suit Gundam: The Origin IV - Eve of Des...\n",
       "97                               Dou Kyu Sei: Classmates\n",
       "98            The Shimajiro Movie: Shimajiro in Bookland\n",
       "99                                        In This Corner\n",
       "100                                         Asatte Dansu\n",
       "Name: title, Length: 100, dtype: object"
      ]
     },
     "execution_count": 6,
     "metadata": {},
     "output_type": "execute_result"
    }
   ],
   "source": [
    "anime_movies['title']"
   ]
  },
  {
   "cell_type": "markdown",
   "metadata": {},
   "source": [
    "* Al seleccionar una columna, podemos acceder a sus elementos utilizando el operador de indexación una vez más (de acuerdo al índice que se esté utilizando, en nuestro caso los valores de la columna `rank`):"
   ]
  },
  {
   "cell_type": "code",
   "execution_count": 7,
   "metadata": {},
   "outputs": [
    {
     "data": {
      "text/plain": [
       "'Ramayana: The Legend of Prince Rama'"
      ]
     },
     "execution_count": 7,
     "metadata": {},
     "output_type": "execute_result"
    }
   ],
   "source": [
    "anime_movies['title'][1]"
   ]
  },
  {
   "cell_type": "markdown",
   "metadata": {},
   "source": [
    "* Para seleccionar registros (filas) basado en su posición dentro del DataFrame, utilizamos el método `iloc[]`:"
   ]
  },
  {
   "cell_type": "code",
   "execution_count": 8,
   "metadata": {},
   "outputs": [
    {
     "data": {
      "text/plain": [
       "title      Ramayana: The Legend of Prince Rama\n",
       "rating                                     9.2\n",
       "votes                                    7,549\n",
       "year                                      1993\n",
       "minutes                                   97.0\n",
       "genre             Animation, Action, Adventure\n",
       "gross                                      NaN\n",
       "Name: 1, dtype: object"
      ]
     },
     "execution_count": 8,
     "metadata": {},
     "output_type": "execute_result"
    }
   ],
   "source": [
    "anime_movies.iloc[0]"
   ]
  },
  {
   "cell_type": "markdown",
   "metadata": {},
   "source": [
    "Este método también puede utilizarse para obtener distintos *slices* y columnas específicas siguiendo la semántica dada en la documentación.\n",
    "\n",
    "* Para seleccionar registros basado en los índices (en nuestro ejemplo, los valores de la columna `rank` y los nombres de las columnas), utilizamos el método `loc[]`."
   ]
  },
  {
   "cell_type": "code",
   "execution_count": 9,
   "metadata": {},
   "outputs": [
    {
     "data": {
      "text/plain": [
       "title      Ramayana: The Legend of Prince Rama\n",
       "rating                                     9.2\n",
       "votes                                    7,549\n",
       "year                                      1993\n",
       "minutes                                   97.0\n",
       "genre             Animation, Action, Adventure\n",
       "gross                                      NaN\n",
       "Name: 1, dtype: object"
      ]
     },
     "execution_count": 9,
     "metadata": {},
     "output_type": "execute_result"
    }
   ],
   "source": [
    "anime_movies.loc[1]"
   ]
  },
  {
   "cell_type": "markdown",
   "metadata": {},
   "source": [
    "**1.2.1)** Utilice el método `iloc` para obtener una vista de los últimos 5 registros (los que están al final del dataframe), mostrando únicamente el título y el rating de cada película. Luego, escriba una expresión que le permita obtener el mismo resultado, pero con el método `loc`. ¿En qué se diferencian ambos métodos?, ¿cuáles son las ventajas y desventajas de usar uno u otro? **(6 pts.)**"
   ]
  },
  {
   "cell_type": "code",
   "execution_count": null,
   "metadata": {},
   "outputs": [],
   "source": [
    "# Método iloc\n"
   ]
  },
  {
   "cell_type": "code",
   "execution_count": null,
   "metadata": {},
   "outputs": [],
   "source": [
    "#Método loc\n"
   ]
  },
  {
   "cell_type": "markdown",
   "metadata": {},
   "source": [
    "**Respuesta**:"
   ]
  },
  {
   "cell_type": "markdown",
   "metadata": {},
   "source": [
    "* También podemos utilizar expresiones condicionales dentro de `loc[...]`, de forma de mostrar solamente registros que cumplan con una condición dada."
   ]
  },
  {
   "cell_type": "markdown",
   "metadata": {},
   "source": [
    "**1.2.2)** Muestre el título y el rating de todas las películas que duran más de 120 minutos. **(4 pts)**"
   ]
  },
  {
   "cell_type": "code",
   "execution_count": null,
   "metadata": {},
   "outputs": [],
   "source": []
  },
  {
   "cell_type": "markdown",
   "metadata": {},
   "source": [
    "* Podemos revisar el atributo `dtypes` para visualizar el tipo de datos almacenados en cada columna."
   ]
  },
  {
   "cell_type": "code",
   "execution_count": 10,
   "metadata": {},
   "outputs": [
    {
     "data": {
      "text/plain": [
       "title       object\n",
       "rating     float64\n",
       "votes       object\n",
       "year         int64\n",
       "minutes    float64\n",
       "genre       object\n",
       "gross       object\n",
       "dtype: object"
      ]
     },
     "execution_count": 10,
     "metadata": {},
     "output_type": "execute_result"
    }
   ],
   "source": [
    "anime_movies.dtypes"
   ]
  },
  {
   "cell_type": "markdown",
   "metadata": {},
   "source": [
    "Es común que, al importar datasets de distintas fuentes, usted deba realizar un **pre-procesamiento** de los datos para poder analizarlos correctamente.\n",
    "\n",
    "❗ La columna `votes` almacena la cantidad de votos por cada película pero, como podrá observar, en vez de ser del tipo `int`, esta columna es del tipo `object`, ya que almacena el entero como un string de caracteres numéricos, utilizando una `,` para agrupar los dígitos de 3 en 3. "
   ]
  },
  {
   "cell_type": "markdown",
   "metadata": {},
   "source": [
    "**1.2.3)** Modifique la columna `votes` del dataframe `anime_movies` de tal forma que sus valores sean puramente números enteros. Asegúrese de que el cambio sea correctamente almacenado en el dataframe. **(5 pts.)**\n",
    "\n",
    "*Hint*: Los métodos `map()` y `astype()` le serán de utilidad."
   ]
  },
  {
   "cell_type": "code",
   "execution_count": null,
   "metadata": {},
   "outputs": [],
   "source": []
  },
  {
   "cell_type": "markdown",
   "metadata": {},
   "source": [
    "* El método `describe()` aplicado a una columna del dataframe muestra una caracterización estadística de los datos que contiene, según el tipo de dato asociado."
   ]
  },
  {
   "cell_type": "code",
   "execution_count": null,
   "metadata": {},
   "outputs": [],
   "source": [
    "anime_movies['votes'].describe()"
   ]
  },
  {
   "cell_type": "code",
   "execution_count": null,
   "metadata": {},
   "outputs": [],
   "source": [
    "anime_movies['genre'].describe()"
   ]
  },
  {
   "cell_type": "markdown",
   "metadata": {},
   "source": [
    "* Cuando hay datos ausentes, pandas asigna el valor `NaN` a las casillas correspondientes. Las funciones `pd.isnull()` y `pd.notnull()` permiten filtrar dichos registros."
   ]
  },
  {
   "cell_type": "markdown",
   "metadata": {},
   "source": [
    "❗ La columna `gross` muestra las ganancias percibidas por cada película en millones de dólares. El problema es que varios registros tienen un valor `NaN` en dicho espacio y, aquellas que muestran un valor, lo hacen mediante un formato de string `$...M`.\n",
    "\n",
    "**1.2.4)** Almacene en un nuevo dataframe todos los registros de `anime_movies` que contienen datos NO nulos para la columna `gross`. Luego, modifique los valores de dicha columna de tal forma que el tipo de dato sea `float`, lo cual permitirá analizar dichos datos correctamente. **(6 pts.)**"
   ]
  },
  {
   "cell_type": "code",
   "execution_count": null,
   "metadata": {},
   "outputs": [],
   "source": []
  },
  {
   "cell_type": "markdown",
   "metadata": {},
   "source": [
    "#### 1.3. Visualizando la información contenida en un dataset"
   ]
  },
  {
   "cell_type": "markdown",
   "metadata": {},
   "source": [
    "Visualizar la información almacenada en un *pandas dataframe* no es difícil, sobre todo cuando tenemos a nuestra disposición librerías como `matplotlib` o `seaborn`."
   ]
  },
  {
   "cell_type": "markdown",
   "metadata": {},
   "source": [
    "* La función `sns.histplot()` permite generar un histograma simple, tan solo debemos pasarle la columna del dataframe que queremos graficar."
   ]
  },
  {
   "cell_type": "code",
   "execution_count": 12,
   "metadata": {},
   "outputs": [
    {
     "data": {
      "image/png": "[encoded data removed]",
      "text/plain": [
       "<Figure size 432x288 with 1 Axes>"
      ]
     },
     "metadata": {
      "needs_background": "light"
     },
     "output_type": "display_data"
    }
   ],
   "source": [
    "sns.histplot(anime_movies['year']);"
   ]
  },
  {
   "cell_type": "markdown",
   "metadata": {},
   "source": [
    "* La función `sns.kdeplot()` permite graficar una estimación de densidad de kernel, el cual muestra la distribución aproximada de los datos (como un histograma pero suavizado)."
   ]
  },
  {
   "cell_type": "code",
   "execution_count": 13,
   "metadata": {},
   "outputs": [
    {
     "data": {
      "image/png": "[encoded data removed]",
      "text/plain": [
       "<Figure size 432x288 with 1 Axes>"
      ]
     },
     "metadata": {
      "needs_background": "light"
     },
     "output_type": "display_data"
    }
   ],
   "source": [
    "sns.kdeplot(anime_movies['minutes']);"
   ]
  },
  {
   "cell_type": "markdown",
   "metadata": {},
   "source": [
    "* La función `sns.boxplot()` permite graficar un **boxplot**, también llamado gráfico de caja y bigotes, el cual muestra la distribución de los datos mediante una visualización de los datos atípicos (*outliers*), el rango (sin *outliers*), el rango intercuartil, los cuartiles (Q1 y Q3), la mediana (Q2) y los valores mínimo y máximo."
   ]
  },
  {
   "cell_type": "code",
   "execution_count": 14,
   "metadata": {},
   "outputs": [
    {
     "name": "stdout",
     "output_type": "stream",
     "text": [
      "count     100.000000\n",
      "mean     2007.810000\n",
      "std        12.233168\n",
      "min      1979.000000\n",
      "25%      1997.750000\n",
      "50%      2013.000000\n",
      "75%      2018.000000\n",
      "max      2022.000000\n",
      "Name: year, dtype: float64\n"
     ]
    },
    {
     "data": {
      "image/png": "[encoded data removed]",
      "text/plain": [
       "<Figure size 1152x432 with 1 Axes>"
      ]
     },
     "metadata": {
      "needs_background": "light"
     },
     "output_type": "display_data"
    }
   ],
   "source": [
    "print(anime_movies['year'].describe())\n",
    "\n",
    "plt.figure(figsize=(16,6))\n",
    "sns.boxplot(x=anime_movies['year']);"
   ]
  },
  {
   "cell_type": "markdown",
   "metadata": {},
   "source": [
    "**1.3.1)** ¿Qué puede concluir respecto a la distribución de los años en que fueron producidas las películas del dataset? Considere todos los estadísticos que se visualizan en el boxplot (máximo, mínimo, mediana, cuartiles). **(4 pts.)**"
   ]
  },
  {
   "cell_type": "markdown",
   "metadata": {},
   "source": [
    "**Respuesta**:"
   ]
  },
  {
   "cell_type": "markdown",
   "metadata": {},
   "source": [
    "**1.3.2)** Genere un gráfico de barras o *barplot* que muestre las frecuencias de los géneros que aparecen en el dataframe. Como podrá observar, la data respecto a los géneros de cada película está en el formato `'gen1, gen2, ...'`, por lo que cada una podrá pertenecer a más de un género. Adicionalmente, todas las películas del dataset pertenecen a la categoría *Animation*, lo cual es obvio dado que se trata de películas animadas; no considere esta categoría en el gráfico. Utilice la función `sns.barplot(x=..., y=...)` para generar el gráfico. **(10 pts.)**\n",
    "\n",
    "*Hints*: \n",
    "* Debe almacenar el nombre único de cada género (`x`) y sus ocurrencias respectivas (`y`).\n",
    "* Usar `plt.figure(figsize=(..., ...))` le permitirá setear las dimensiones de su gráfico."
   ]
  },
  {
   "cell_type": "code",
   "execution_count": null,
   "metadata": {},
   "outputs": [],
   "source": []
  },
  {
   "cell_type": "markdown",
   "metadata": {},
   "source": [
    "**1.3.3)** Obtenga un resumen estadístico de las ganancias obtenidas por las películas según el dataframe creado en el ítem **1.2.4**. Presente uno o más gráficos que le permitan visualizar las principales características de la data. Si se evidencia asimetría, ¿de qué tipo es?, ¿qué puede concluir al respecto?, ¿qué estadística es más **robusta**, la media o la mediana (fundamente)?, ¿hay presencia de outliers? **(15 pts.)**"
   ]
  },
  {
   "cell_type": "code",
   "execution_count": null,
   "metadata": {},
   "outputs": [],
   "source": []
  },
  {
   "cell_type": "markdown",
   "metadata": {},
   "source": [
    "**Respuesta**:"
   ]
  },
  {
   "cell_type": "markdown",
   "metadata": {},
   "source": [
    "**1.3.4)** Obtenga un resumen estadístico de la columna `votes`. Luego, genere un boxplot que le permita visualizar la distribución de la data. Analice y comente respecto a los resultados obtenidos (máximo, mínimo, rango, cuartiles, media y desviación estándar). **(5 pts.)**"
   ]
  },
  {
   "cell_type": "code",
   "execution_count": null,
   "metadata": {},
   "outputs": [],
   "source": []
  },
  {
   "cell_type": "markdown",
   "metadata": {},
   "source": [
    "**Comentarios y observaciones**:"
   ]
  },
  {
   "cell_type": "markdown",
   "metadata": {},
   "source": [
    "### 2. Test de hipótesis **(45 pts.)**"
   ]
  },
  {
   "cell_type": "markdown",
   "metadata": {},
   "source": [
    "La prueba de hipótesis es un área de la **Inferencia Estadística** que plantea una serie de métodos para decidir si una afirmación conocida ($H_0$) sobre una población se puede considerar aún plausible bajo la presencia de nuevos datos. \n",
    "\n",
    "> \"El testeo de hipótesis es como un juicio legal. Asumimos que alguien es inocente hasta que haya evidencia suficiente que sugiera que es culpable. De la misma forma, mantenemos $H_0$ hasta que haya suficiente evidencia para rechazar $H_0$.\"\n"
   ]
  },
  {
   "cell_type": "markdown",
   "metadata": {},
   "source": [
    "**2.1)** Defina brevemente los siguientes elementos fundamentales de una prueba de hipótesis **(8 pts.)**:\n",
    "1. **Hipótesis nula $H_0$**: \n",
    "2. **Hipótesis alternativa $H_1$**: \n",
    "3. **Estadístico de prueba**: \n",
    "4. **P-Value**: \n",
    "5. **Error de tipo 1**: \n",
    "6. **Error de tipo 2**: \n",
    "7. **Región crítica**: \n",
    "8. **Posibles conclusiones derivadas de un test de hipótesis**: "
   ]
  },
  {
   "cell_type": "markdown",
   "metadata": {},
   "source": [
    "**2.2)** ¿Por qué pueden ocurrir errores (de tipo 1 o 2) en una prueba de hipótesis? Considere que se trata de descartar o aceptar una aseveración realizada sobre una población en base a datos muestrales. **(2 pts.)**"
   ]
  },
  {
   "cell_type": "markdown",
   "metadata": {},
   "source": [
    "**Respuesta**: "
   ]
  },
  {
   "cell_type": "markdown",
   "metadata": {},
   "source": [
    "**2.3)** Defina la función `hypothesis_test(sample, null_value, alpha)`, la cual realiza un test de hipótesis considerando la muestra `sample` y las hipótesis $H_0: \\mu = 20.5$ y $H_1: \\mu \\neq 20.5$ considerando un nivel de significancia $\\alpha = 0.05$ y el promedio muestral como estadístico de prueba **(10 pts.)**.\n",
    "\n",
    "*Hints*:\n",
    "* El valor `z` es el estadístico de prueba, en este caso se corresponde con *z-test*.\n",
    "* El valor `P_value` se calcula utilizando la `cdf` de una normal estándar.\n",
    "* El rechazar o no la hipótesis nula dependerá de la relación que haya entre el `P_value` y el nivel de significancia `alpha`.\n",
    "* La función retorna `False` si $H_0$ NO es rechazada, `True` en caso contrario."
   ]
  },
  {
   "cell_type": "code",
   "execution_count": null,
   "metadata": {},
   "outputs": [],
   "source": [
    "sample = stats.norm.rvs(loc=21, scale=5, size=100)\n",
    "\n",
    "def hypothesis_test(sample, null_value, alpha) -> bool:\n",
    "    # Obtener los estadísticos de la muestra\n",
    "    n = ...\n",
    "    sample_mean = ...\n",
    "    sample_std = ...\n",
    "    \n",
    "    # Obtener z (valor del estadístico de prueba)\n",
    "    z = ...\n",
    "    \n",
    "    # Obtener el P-value\n",
    "    Z = ...\n",
    "    P_value =  ...\n",
    "    \n",
    "    # Mostrar el P-value\n",
    "    print(f\"P-value is: {P_value}\")\n",
    "    \n",
    "    # H0 es rechazada?\n",
    "    print(\"H0 is rejected\") if ... else print(\"H0 is not rejected\")\n",
    "    \n",
    "    return ..."
   ]
  },
  {
   "cell_type": "code",
   "execution_count": null,
   "metadata": {},
   "outputs": [],
   "source": [
    "hypothesis_test(sample, 20.5, 0.05)"
   ]
  },
  {
   "cell_type": "markdown",
   "metadata": {},
   "source": [
    "**2.4)** Comente los resultados del test de hipótesis realizado en el ítem anterior. Además, interprete el P-value obtenido. **(5 pts.)**"
   ]
  },
  {
   "cell_type": "markdown",
   "metadata": {},
   "source": [
    "**Respuesta:**"
   ]
  },
  {
   "cell_type": "markdown",
   "metadata": {},
   "source": [
    "**2.5)** ¿Qué ocurre con el resultado del test de hipótesis a medida que el tamaño de la muestra aumenta?, ¿por qué? **(5 pts.)**"
   ]
  },
  {
   "cell_type": "markdown",
   "metadata": {},
   "source": [
    "**Respuesta:**"
   ]
  },
  {
   "cell_type": "markdown",
   "metadata": {},
   "source": [
    "**2.6)** Cuando el tamaño de la muestra es pequeño sabemos que el teorema del límite central es impreciso, lo que implica que nuestro test de hipótesis lo es también. Defina la función `hypothesis_test_2(sample, null_value, alpha)` que realiza un test de hipótesis como el del ítem **2.3** pero que permite evitar el problema mencionado respecto a las muestras pequeñas. **(10 pts.)**.\n",
    "\n",
    "*Hint*: El `P_value` se obtiene utilizando una cdf de una distribución de probabilidad distinta a la normal estándar."
   ]
  },
  {
   "cell_type": "code",
   "execution_count": null,
   "metadata": {},
   "outputs": [],
   "source": [
    "def hypothesis_test_2(sample,null_value,alpha):\n",
    "    \n",
    "    ...\n",
    "    \n",
    "    return ..."
   ]
  },
  {
   "cell_type": "markdown",
   "metadata": {},
   "source": [
    "**2.7)** ¿Cuál es el criterio para considerar *pequeño* el tamaño de una muestra? Inidique un `size` pequeño en la celda de código siguiente de acuerdo al criterio considerado y ejecute el test de hipótesis modificado a la muestra generada. **(5 pts.)**"
   ]
  },
  {
   "cell_type": "markdown",
   "metadata": {},
   "source": [
    "**Respuesta**:"
   ]
  },
  {
   "cell_type": "code",
   "execution_count": null,
   "metadata": {},
   "outputs": [],
   "source": [
    "little_sample = stats.norm.rvs(loc=21, scale=5, size=...)\n",
    "hypothesis_test_2(little_sample, 20.5, 0.05)"
   ]
  }
 ],
 "metadata": {
  "kernelspec": {
   "display_name": "Python 3.9.7 ('base')",
   "language": "python",
   "name": "python3"
  },
  "language_info": {
   "codemirror_mode": {
    "name": "ipython",
    "version": 3
   },
   "file_extension": ".py",
   "mimetype": "text/x-python",
   "name": "python",
   "nbconvert_exporter": "python",
   "pygments_lexer": "ipython3",
   "version": "3.9.7"
  },
  "orig_nbformat": 4,
  "vscode": {
   "interpreter": {
    "hash": "54eeab819945527a8d7209e791edf978968ef866f623a7ff0720d88b4a19b9c8"
   }
  }
 },
 "nbformat": 4,
 "nbformat_minor": 2
}
